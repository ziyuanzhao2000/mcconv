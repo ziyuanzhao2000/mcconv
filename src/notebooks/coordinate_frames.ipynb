{
 "cells": [
  {
   "cell_type": "code",
   "execution_count": 78,
   "id": "3c1a2b02-0fbd-4f6f-93a2-50978e381dc4",
   "metadata": {},
   "outputs": [],
   "source": [
    "import jax\n",
    "import jax.numpy as jnp\n",
    "from abc import ABC, abstractmethod\n",
    "\n",
    "\n",
    "# we will abuse terminology and take frame and coordinate system to be roughly synonymous\n",
    "\n",
    "class CoordinateSystem(ABC):\n",
    "    @abstractmethod\n",
    "    def to_local(self, coords):\n",
    "        pass\n",
    "\n",
    "    @abstractmethod\n",
    "    def to_global(self, coords):\n",
    "        pass\n",
    "\n",
    "class AffineFrame(CoordinateSystem):\n",
    "    def __init__(self, R, t):\n",
    "        self.R = R # 3*3 \n",
    "        self.Ri = jnp.linalg.inv(R)\n",
    "        self.t = t # 3*1\n",
    "\n",
    "    def to_local(self, coords):\n",
    "        return jnp.matmul(coords - self.t, self.Ri)\n",
    "\n",
    "    def to_global(self, coords):\n",
    "        \"\"\"\n",
    "        coords: n_batch * n_points * 3 \n",
    "        \"\"\"\n",
    "        return self.t + jnp.matmul(coords, self.R)\n",
    "\n",
    "# class CartesianFrame(AffineFrame):\n",
    "  \n",
    "class SphericalFrame(CoordinateSystem):\n",
    "    def __init__(self):\n",
    "        pass\n",
    "    \n",
    "    def to_local(self, coords):\n",
    "        x, y, z = coords[..., 0:1], coords[..., 1:2], coords[..., 2:3]\n",
    "        r = jnp.sqrt(x*x+y*y+z*z)\n",
    "        theta = jnp.arctan(y/x)\n",
    "        phi = jnp.arccos(z/r)\n",
    "        return jnp.concatenate([r, theta, phi], axis=-1)\n",
    "    \n",
    "    def to_global(self, coords):\n",
    "        r, theta, phi = coords[..., 0:1], coords[..., 1:2], coords[..., 2:3]\n",
    "        x = r * jnp.cos(theta) * jnp.sin(phi)\n",
    "        y = r * jnp.sin(theta) * jnp.sin(phi)\n",
    "        z = r * jnp.cos(phi)\n",
    "        return jnp.concatenate([x, y, z], axis=-1)\n",
    "    "
   ]
  },
  {
   "cell_type": "code",
   "execution_count": 12,
   "id": "973dcc21-a90a-4a07-b388-27a4b7da5e6c",
   "metadata": {},
   "outputs": [
    {
     "name": "stdout",
     "output_type": "stream",
     "text": [
      "(10, 3, 5)\n"
     ]
    }
   ],
   "source": [
    "import jax.numpy as jnp\n",
    "\n",
    "# Create two matrices of shape (batch_size, m, n) and (batch_size, n, p)\n",
    "batch_size = 10\n",
    "m, n, p = 3, 4, 5\n",
    "a = jnp.ones((batch_size, m, n))\n",
    "b = jnp.ones((batch_size, n, p))\n",
    "\n",
    "# Perform batch multiplication between a and b\n",
    "c = jnp.matmul(a, b)\n",
    "\n",
    "# The resulting array c will have shape (batch_size, m, p)\n",
    "print(c.shape)\n"
   ]
  },
  {
   "cell_type": "code",
   "execution_count": 7,
   "id": "498e50d2-fe0d-47f6-b67c-09037c6f8ff6",
   "metadata": {
    "collapsed": true,
    "jupyter": {
     "outputs_hidden": true
    },
    "tags": []
   },
   "outputs": [
    {
     "data": {
      "text/plain": [
       "Array([[[0.56263244, 0.08879936, 0.3812467 ],\n",
       "        [0.51138127, 0.6424105 , 0.75233936],\n",
       "        [0.3138579 , 0.22232044, 0.23634052],\n",
       "        ...,\n",
       "        [0.29452014, 0.34971   , 0.03020287],\n",
       "        [0.27510083, 0.6130575 , 0.07285404],\n",
       "        [0.59405863, 0.16302896, 0.29600763]],\n",
       "\n",
       "       [[0.56494856, 0.13090682, 0.16035461],\n",
       "        [0.0570246 , 0.19405067, 0.6212238 ],\n",
       "        [0.65211797, 0.4940759 , 0.0380615 ],\n",
       "        ...,\n",
       "        [0.16399229, 0.2171905 , 0.25922263],\n",
       "        [0.9801954 , 0.3604412 , 0.6917523 ],\n",
       "        [0.88947237, 0.06485546, 0.76671696]],\n",
       "\n",
       "       [[0.69712794, 0.6879561 , 0.72874844],\n",
       "        [0.48716807, 0.94218576, 0.91240275],\n",
       "        [0.6258333 , 0.08147645, 0.40676272],\n",
       "        ...,\n",
       "        [0.600199  , 0.30211222, 0.3536942 ],\n",
       "        [0.47230816, 0.2582667 , 0.6980766 ],\n",
       "        [0.6558392 , 0.20156443, 0.12147629]],\n",
       "\n",
       "       ...,\n",
       "\n",
       "       [[0.58134127, 0.52670527, 0.84955776],\n",
       "        [0.5949209 , 0.6576251 , 0.82705545],\n",
       "        [0.42576528, 0.13155043, 0.21305001],\n",
       "        ...,\n",
       "        [0.6622908 , 0.21484363, 0.93104386],\n",
       "        [0.87913847, 0.30703187, 0.2119745 ],\n",
       "        [0.4975927 , 0.0186311 , 0.8914374 ]],\n",
       "\n",
       "       [[0.20606065, 0.94661784, 0.97040045],\n",
       "        [0.56595623, 0.02988708, 0.810639  ],\n",
       "        [0.86964417, 0.67797804, 0.62812984],\n",
       "        ...,\n",
       "        [0.7363529 , 0.9347712 , 0.80069244],\n",
       "        [0.33774495, 0.6358094 , 0.95825684],\n",
       "        [0.14378273, 0.9544885 , 0.5958848 ]],\n",
       "\n",
       "       [[0.30203986, 0.6472951 , 0.08058429],\n",
       "        [0.32842362, 0.1093322 , 0.3116033 ],\n",
       "        [0.8301642 , 0.82857716, 0.72190154],\n",
       "        ...,\n",
       "        [0.64244866, 0.29710364, 0.4866395 ],\n",
       "        [0.51553595, 0.1704402 , 0.5472543 ],\n",
       "        [0.05756533, 0.9545975 , 0.25591767]]], dtype=float32)"
      ]
     },
     "execution_count": 7,
     "metadata": {},
     "output_type": "execute_result"
    }
   ],
   "source": [
    "n_batch = \n",
    "n_points = 100\n",
    "\n",
    "rng_key = jax.random.PRNGKey(42)\n",
    "Xlocal = jax.random.uniform(rng_key, (n_batch, n_points, 3))\n",
    "Xlocal"
   ]
  },
  {
   "cell_type": "code",
   "execution_count": 13,
   "id": "334771ab-c04c-4d59-a23a-02a8561454f0",
   "metadata": {},
   "outputs": [],
   "source": [
    "R = jnp.array([[1, 0, 0],\n",
    "               [1, 1, 0],\n",
    "               [1, 1, 1]])\n",
    "t = jnp.array([0, 0, 0])\n",
    "frame1 = AffineFrame(R, t)"
   ]
  },
  {
   "cell_type": "code",
   "execution_count": 18,
   "id": "b1521342-9df4-45a1-9cd8-fdca12fa93a5",
   "metadata": {},
   "outputs": [
    {
     "data": {
      "text/plain": [
       "Array(True, dtype=bool)"
      ]
     },
     "execution_count": 18,
     "metadata": {},
     "output_type": "execute_result"
    }
   ],
   "source": [
    "jnp.isclose(frame1.to_local(frame1.to_global(Xlocal)), Xlocal).all()"
   ]
  },
  {
   "cell_type": "code",
   "execution_count": 36,
   "id": "84ccac5b-7bbf-431d-a5a3-098af266e627",
   "metadata": {},
   "outputs": [],
   "source": [
    "# testing two ways of xyz to IC\n",
    "\n",
    "def dist(x1, x2):\n",
    "    d = x2-x1\n",
    "    d2 = jnp.sum(d*d, axis=-1)\n",
    "    return jnp.sqrt(d2)\n",
    "\n",
    "def angle(x1, x2, x3, degrees=True):\n",
    "    ba = x1 - x2\n",
    "    ba /= jnp.linalg.norm(ba, axis=-1, keepdims=True)\n",
    "    bc = x3 - x2\n",
    "    bc /= jnp.linalg.norm(bc, axis=-1, keepdims=True)\n",
    "    cosine_angle = jnp.sum(ba*bc, axis=-1)\n",
    "    if degrees:\n",
    "        angle = jnp.degrees(jnp.arccos(cosine_angle)) # Range [0,180]\n",
    "        return angle \n",
    "    else:  # Range [0, pi]\n",
    "        return jnp.arccos(cosine_angle) \n",
    "    \n",
    "def torsion(x1, x2, x3, x4):\n",
    "    \"\"\"Praxeolitic formula\n",
    "    1 sqrt, 1 cross product\"\"\"\n",
    "    b0 = -1.0*(x2 - x1)\n",
    "    b1 = x3 - x2\n",
    "    b2 = x4 - x3\n",
    "    # normalize b1 so that it does not influence magnitude of vector\n",
    "    # rejections that come next\n",
    "    b1 /= jnp.linalg.norm(b1, axis=-1, keepdims=True)\n",
    "\n",
    "    # vector rejections\n",
    "    # v = projection of b0 onto plane perpendicular to b1\n",
    "    #   = b0 minus component that aligns with b1\n",
    "    # w = projection of b2 onto plane perpendicular to b1\n",
    "    #   = b2 minus component that aligns with b1\n",
    "    v = b0 - jnp.sum(b0*b1, axis=-1, keepdims=True) * b1\n",
    "    w = b2 - jnp.sum(b2*b1, axis=-1, keepdims=True) * b1\n",
    "\n",
    "    # angle between v and w in a plane is the torsion angle\n",
    "    # v and w may not be normalized but that's fine since tan is y/x\n",
    "    x = jnp.sum(v*w, axis=-1)\n",
    "    b1xv = jnp.cross(b1, v, axisa=-1, axisb=-1)\n",
    "    y = jnp.sum(b1xv*w, axis=-1)\n",
    "    return jnp.degrees(jnp.arctan2(y, x))\n"
   ]
  },
  {
   "cell_type": "code",
   "execution_count": 201,
   "id": "38150dce-db28-43ad-8637-a3e15b9e4ada",
   "metadata": {},
   "outputs": [],
   "source": [
    "x1 = jnp.array([[0,0,0]])\n",
    "x2 = jnp.array([[1,1,0]])\n",
    "x3 = jnp.array([[1,2,0]])\n",
    "x4 = jnp.array([[1,2,1]])\n",
    "\n",
    "x1_long = jnp.tile(jnp.array([[0,0,0]]), (100,1))\n",
    "x2_long = jnp.tile(jnp.array([[1,1,0]]), (100,1))\n",
    "x3_long = jnp.tile(jnp.array([[1,2,0]]), (100,1))\n",
    "x4_long = jnp.tile(jnp.array([[1,2,1]]), (100,1))"
   ]
  },
  {
   "cell_type": "code",
   "execution_count": 228,
   "id": "f3d8c1be-95da-4030-ad70-6d48848a4745",
   "metadata": {},
   "outputs": [],
   "source": [
    "@jax.jit\n",
    "def compute_CIs_no_frames():\n",
    "    r = dist(x4_long, x3_long)\n",
    "    theta = angle(x4_long, x3_long, x2_long)\n",
    "    phi = torsion(x4_long, x3_long, x2_long, x1_long)"
   ]
  },
  {
   "cell_type": "code",
   "execution_count": 229,
   "id": "1a14ae19-019f-4aab-b3ce-16391ed723b0",
   "metadata": {},
   "outputs": [
    {
     "name": "stdout",
     "output_type": "stream",
     "text": [
      "136 µs ± 855 ns per loop (mean ± std. dev. of 7 runs, 10,000 loops each)\n"
     ]
    }
   ],
   "source": [
    "%%timeit\n",
    "compute_CIs_no_frames()"
   ]
  },
  {
   "cell_type": "code",
   "execution_count": 240,
   "id": "63b3a78e-3c90-47da-bd49-9fa845fb668b",
   "metadata": {},
   "outputs": [],
   "source": [
    "## second way is to calculate frame explicitly\n",
    "\n",
    "def build_frame(x1, x2, x3):\n",
    "    \"\"\"\n",
    "    x1, x2, x3 are the three atoms before x4, whose coordinate we want to express \n",
    "    in the local frame computed from x1, x2, x3. This algorithm is based on NeRF.\n",
    "    \n",
    "    x1: n_atoms * 3 array\n",
    "    \"\"\"\n",
    "    bc = x3 - x2\n",
    "    bc = bc / jnp.linalg.norm(bc, axis=-1, keepdims=True) # normalize\n",
    "    \n",
    "    n = jnp.cross(bc, x1-x2)\n",
    "    n = n / jnp.linalg.norm(n, axis=-1, keepdims=True)\n",
    "    \n",
    "    nxbc = jnp.cross(n, bc, axisa=-1, axisb=-1)\n",
    "    \n",
    "    coordaxes = jnp.concatenate([nxbc[..., None], n[..., None], bc[..., None]], axis=2)\n",
    "        \n",
    "    return AffineFrame(R=coordaxes, t=x3[..., None, :])\n",
    "    "
   ]
  },
  {
   "cell_type": "code",
   "execution_count": 245,
   "id": "6ca24023-5ff1-4a86-8f7e-bdcd4cc5b78e",
   "metadata": {},
   "outputs": [],
   "source": [
    "local_frame = build_frame(x1_long, x2_long, x3_long)"
   ]
  },
  {
   "cell_type": "code",
   "execution_count": 246,
   "id": "db670c58-31f4-4e25-87fc-96fbfdcec734",
   "metadata": {},
   "outputs": [
    {
     "data": {
      "text/plain": [
       "(100, 1, 3)"
      ]
     },
     "execution_count": 246,
     "metadata": {},
     "output_type": "execute_result"
    }
   ],
   "source": [
    "local_frame.t.shape"
   ]
  },
  {
   "cell_type": "code",
   "execution_count": 247,
   "id": "26341b2c-8e14-4a50-b4c6-6cfefd10c283",
   "metadata": {},
   "outputs": [
    {
     "data": {
      "text/plain": [
       "(100, 3, 3)"
      ]
     },
     "execution_count": 247,
     "metadata": {},
     "output_type": "execute_result"
    }
   ],
   "source": [
    "local_frame.R.shape"
   ]
  },
  {
   "cell_type": "code",
   "execution_count": 188,
   "id": "11af383c-a39e-476c-b342-404527d70f01",
   "metadata": {},
   "outputs": [],
   "source": [
    "sframe = SphericalFrame()"
   ]
  },
  {
   "cell_type": "code",
   "execution_count": 189,
   "id": "8281adee-be0d-4750-aa44-d308c3241bd4",
   "metadata": {},
   "outputs": [
    {
     "data": {
      "text/plain": [
       "Array(True, dtype=bool)"
      ]
     },
     "execution_count": 189,
     "metadata": {},
     "output_type": "execute_result"
    }
   ],
   "source": [
    "jnp.isclose(sframe.to_global(sframe.to_local(Xlocal)), Xlocal, atol=1e-5).all()"
   ]
  },
  {
   "cell_type": "code",
   "execution_count": 190,
   "id": "4bccd1b5-38be-4673-964a-2fef0d9ec3a7",
   "metadata": {},
   "outputs": [
    {
     "data": {
      "text/plain": [
       "Array(True, dtype=bool)"
      ]
     },
     "execution_count": 190,
     "metadata": {},
     "output_type": "execute_result"
    }
   ],
   "source": [
    "jnp.isclose(sframe.to_local(sframe.to_global(Xlocal)), Xlocal, atol=1e-3).all()"
   ]
  },
  {
   "cell_type": "code",
   "execution_count": null,
   "id": "59c634cb-8b68-4529-b7ff-e7a6095eb39f",
   "metadata": {
    "tags": []
   },
   "outputs": [],
   "source": [
    "x4_local = local_frame.to_local(x4_long)\n",
    "x4_local.shape"
   ]
  },
  {
   "cell_type": "code",
   "execution_count": 192,
   "id": "f90b5f19-de07-40d2-b3b5-1bc24294eca1",
   "metadata": {
    "collapsed": true,
    "jupyter": {
     "outputs_hidden": true
    },
    "tags": []
   },
   "outputs": [
    {
     "data": {
      "text/plain": [
       "Array([[[1.       , 1.5707964, 1.5707964],\n",
       "        [1.       , 1.5707964, 1.5707964],\n",
       "        [1.       , 1.5707964, 1.5707964],\n",
       "        ...,\n",
       "        [1.       , 1.5707964, 1.5707964],\n",
       "        [1.       , 1.5707964, 1.5707964],\n",
       "        [1.       , 1.5707964, 1.5707964]],\n",
       "\n",
       "       [[1.       , 1.5707964, 1.5707964],\n",
       "        [1.       , 1.5707964, 1.5707964],\n",
       "        [1.       , 1.5707964, 1.5707964],\n",
       "        ...,\n",
       "        [1.       , 1.5707964, 1.5707964],\n",
       "        [1.       , 1.5707964, 1.5707964],\n",
       "        [1.       , 1.5707964, 1.5707964]],\n",
       "\n",
       "       [[1.       , 1.5707964, 1.5707964],\n",
       "        [1.       , 1.5707964, 1.5707964],\n",
       "        [1.       , 1.5707964, 1.5707964],\n",
       "        ...,\n",
       "        [1.       , 1.5707964, 1.5707964],\n",
       "        [1.       , 1.5707964, 1.5707964],\n",
       "        [1.       , 1.5707964, 1.5707964]],\n",
       "\n",
       "       ...,\n",
       "\n",
       "       [[1.       , 1.5707964, 1.5707964],\n",
       "        [1.       , 1.5707964, 1.5707964],\n",
       "        [1.       , 1.5707964, 1.5707964],\n",
       "        ...,\n",
       "        [1.       , 1.5707964, 1.5707964],\n",
       "        [1.       , 1.5707964, 1.5707964],\n",
       "        [1.       , 1.5707964, 1.5707964]],\n",
       "\n",
       "       [[1.       , 1.5707964, 1.5707964],\n",
       "        [1.       , 1.5707964, 1.5707964],\n",
       "        [1.       , 1.5707964, 1.5707964],\n",
       "        ...,\n",
       "        [1.       , 1.5707964, 1.5707964],\n",
       "        [1.       , 1.5707964, 1.5707964],\n",
       "        [1.       , 1.5707964, 1.5707964]],\n",
       "\n",
       "       [[1.       , 1.5707964, 1.5707964],\n",
       "        [1.       , 1.5707964, 1.5707964],\n",
       "        [1.       , 1.5707964, 1.5707964],\n",
       "        ...,\n",
       "        [1.       , 1.5707964, 1.5707964],\n",
       "        [1.       , 1.5707964, 1.5707964],\n",
       "        [1.       , 1.5707964, 1.5707964]]], dtype=float32)"
      ]
     },
     "execution_count": 192,
     "metadata": {},
     "output_type": "execute_result"
    }
   ],
   "source": [
    "sframe.to_local(x4_local)"
   ]
  },
  {
   "cell_type": "code",
   "execution_count": 224,
   "id": "37667f84-a5cb-45b2-aaf0-094618b50db4",
   "metadata": {},
   "outputs": [],
   "source": [
    "@jax.jit\n",
    "def compute_CIs():\n",
    "    local_frame = AffineFrame(R=build_frame(x1, x2, x3), t=x3[None, ...])\n",
    "    sframe.to_local(local_frame.to_local(x4))"
   ]
  },
  {
   "cell_type": "code",
   "execution_count": 226,
   "id": "4472cfab-a1ea-49ae-bcc7-2320fb636a6e",
   "metadata": {},
   "outputs": [
    {
     "name": "stdout",
     "output_type": "stream",
     "text": [
      "138 µs ± 2.1 µs per loop (mean ± std. dev. of 7 runs, 10,000 loops each)\n"
     ]
    }
   ],
   "source": [
    "%%timeit\n",
    "compute_CIs()"
   ]
  },
  {
   "cell_type": "code",
   "execution_count": 236,
   "id": "db9aa17b-9c69-496b-b70e-47260854f3f9",
   "metadata": {},
   "outputs": [
    {
     "name": "stdout",
     "output_type": "stream",
     "text": [
      "         370 function calls (369 primitive calls) in 0.002 seconds\n",
      "\n",
      "   Ordered by: standard name\n",
      "\n",
      "   ncalls  tottime  percall  cumtime  percall filename:lineno(function)\n",
      "        1    0.000    0.000    0.000    0.000 <string>:1(<lambda>)\n",
      "        1    0.000    0.000    0.001    0.001 <string>:1(<module>)\n",
      "        2    0.000    0.000    0.000    0.000 <string>:2(__init__)\n",
      "        2    0.000    0.000    0.000    0.000 abc.py:117(__instancecheck__)\n",
      "        1    0.000    0.000    0.001    0.001 api.py:304(infer_params)\n",
      "        1    0.000    0.000    0.000    0.000 api_util.py:273(_ensure_inbounds)\n",
      "        1    0.000    0.000    0.000    0.000 api_util.py:288(argnums_partial_except)\n",
      "        1    0.000    0.000    0.000    0.000 api_util.py:590(debug_info)\n",
      "        1    0.000    0.000    0.000    0.000 api_util.py:600(fun_sourceinfo)\n",
      "        1    0.000    0.000    0.000    0.000 api_util.py:611(_arg_names)\n",
      "        1    0.000    0.000    0.000    0.000 api_util.py:616(<listcomp>)\n",
      "        1    0.000    0.000    0.000    0.000 api_util.py:617(<dictcomp>)\n",
      "        1    0.000    0.000    0.000    0.000 api_util.py:622(<genexpr>)\n",
      "       17    0.000    0.000    0.000    0.000 config.py:239(get_state)\n",
      "        9    0.000    0.000    0.000    0.000 config.py:276(get_state)\n",
      "        8    0.000    0.000    0.000    0.000 config.py:445(get_state)\n",
      "        3    0.000    0.000    0.000    0.000 config.py:453(_trace_context)\n",
      "       34    0.000    0.000    0.000    0.000 config.py:94(_read)\n",
      "        1    0.000    0.000    0.000    0.000 core.py:1220(find_top_trace)\n",
      "        1    0.000    0.000    0.000    0.000 core.py:1221(<genexpr>)\n",
      "        1    0.000    0.000    0.000    0.000 core.py:2484(__init__)\n",
      "        1    0.000    0.000    0.000    0.000 core.py:2490(used_axis_names)\n",
      "        1    0.000    0.000    0.000    0.000 core.py:2495(subst_axis_names)\n",
      "        1    0.000    0.000    0.000    0.000 core.py:2506(<listcomp>)\n",
      "        1    0.000    0.000    0.000    0.000 core.py:2565(subst_axis_names_jaxpr)\n",
      "        1    0.000    0.000    0.001    0.001 core.py:2586(bind)\n",
      "        1    0.000    0.000    0.000    0.000 core.py:2588(<genexpr>)\n",
      "        1    0.000    0.000    0.000    0.000 core.py:362(bind_with_trace)\n",
      "        1    0.000    0.000    0.000    0.000 core.py:445(__init__)\n",
      "        1    0.000    0.000    0.000    0.000 core.py:816(process_primitive)\n",
      "        1    0.000    0.000    0.000    0.000 core.py:861(with_cur_sublevel)\n",
      "        1    0.000    0.000    0.000    0.000 core.py:87(<lambda>)\n",
      "        1    0.000    0.000    0.000    0.000 core.py:88(<lambda>)\n",
      "        1    0.000    0.000    0.000    0.000 core.py:89(<lambda>)\n",
      "        1    0.000    0.000    0.000    0.000 core.py:987(cur_sublevel)\n",
      "        1    0.000    0.000    0.000    0.000 inspect.py:2279(_signature_from_function)\n",
      "        1    0.000    0.000    0.000    0.000 inspect.py:2374(_signature_from_callable)\n",
      "        2    0.000    0.000    0.000    0.000 inspect.py:277(isfunction)\n",
      "        1    0.000    0.000    0.000    0.000 inspect.py:2778(__init__)\n",
      "        1    0.000    0.000    0.000    0.000 inspect.py:2919(__init__)\n",
      "        1    0.000    0.000    0.000    0.000 inspect.py:2968(<genexpr>)\n",
      "        1    0.000    0.000    0.000    0.000 inspect.py:2997(from_callable)\n",
      "        1    0.000    0.000    0.000    0.000 inspect.py:3005(parameters)\n",
      "        1    0.000    0.000    0.000    0.000 inspect.py:3049(_bind)\n",
      "        1    0.000    0.000    0.000    0.000 inspect.py:3180(bind)\n",
      "        1    0.000    0.000    0.000    0.000 inspect.py:3251(signature)\n",
      "        2    0.000    0.000    0.000    0.000 inspect.py:612(unwrap)\n",
      "        1    0.000    0.000    0.000    0.000 inspect.py:629(_is_wrapper)\n",
      "        1    0.000    0.000    0.000    0.000 inspect.py:632(_is_wrapper)\n",
      "        1    0.000    0.000    0.000    0.000 inspect.py:66(get_annotations)\n",
      "        3    0.000    0.000    0.000    0.000 linear_util.py:101(val)\n",
      "        3    0.000    0.000    0.000    0.000 linear_util.py:107(__nonzero__)\n",
      "        3    0.000    0.000    0.000    0.000 linear_util.py:129(__init__)\n",
      "        1    0.000    0.000    0.000    0.000 linear_util.py:137(__name__)\n",
      "        2    0.000    0.000    0.000    0.000 linear_util.py:141(wrap)\n",
      "        1    0.000    0.000    0.000    0.000 linear_util.py:146(populate_stores)\n",
      "        2    0.000    0.000    0.000    0.000 linear_util.py:221(transformation_with_aux)\n",
      "        1    0.000    0.000    0.000    0.000 linear_util.py:225(<lambda>)\n",
      "        1    0.000    0.000    0.000    0.000 linear_util.py:234(wrap_init)\n",
      "        1    0.000    0.000    0.000    0.000 linear_util.py:308(memoized_fun)\n",
      "        2    0.000    0.000    0.000    0.000 linear_util.py:89(__init__)\n",
      "        2    0.000    0.000    0.000    0.000 linear_util.py:92(store)\n",
      "        1    0.000    0.000    0.000    0.000 pjit.py:1130(_resolve_in_shardings)\n",
      "        1    0.000    0.000    0.000    0.000 pjit.py:1161(<listcomp>)\n",
      "        1    0.000    0.000    0.000    0.000 pjit.py:1162(<listcomp>)\n",
      "        1    0.000    0.000    0.000    0.000 pjit.py:1219(_pjit_call_impl)\n",
      "        1    0.000    0.000    0.000    0.000 pjit.py:1228(<listcomp>)\n",
      "        2    0.000    0.000    0.000    0.000 pjit.py:1289(__hash__)\n",
      "        2    0.000    0.000    0.000    0.000 pjit.py:1290(<genexpr>)\n",
      "        2    0.000    0.000    0.000    0.000 pjit.py:1297(__eq__)\n",
      "        2    0.000    0.000    0.000    0.000 pjit.py:1300(<genexpr>)\n",
      "        1    0.000    0.000    0.000    0.000 pjit.py:1307(_pjit_lower)\n",
      "        1    0.000    0.000    0.001    0.001 pjit.py:179(_python_pjit_helper)\n",
      "        1    0.000    0.000    0.000    0.000 pjit.py:2035(_fast_path_get_device_assignment)\n",
      "        1    0.000    0.000    0.000    0.000 pjit.py:219(_read_most_recent_pjit_call_executable)\n",
      "        1    0.000    0.000    0.001    0.001 pjit.py:236(cache_miss)\n",
      "        1    0.000    0.000    0.001    0.001 pjit.py:410(common_infer_params)\n",
      "        1    0.000    0.000    0.000    0.000 pjit.py:465(<lambda>)\n",
      "        1    0.000    0.000    0.000    0.000 pjit.py:467(<lambda>)\n",
      "        1    0.000    0.000    0.000    0.000 pjit.py:475(<genexpr>)\n",
      "        1    0.000    0.000    0.000    0.000 pjit.py:544(_flat_axes_specs)\n",
      "        2    0.000    0.000    0.000    0.000 pjit.py:738(hashable_pytree)\n",
      "        2    0.000    0.000    0.000    0.000 pjit.py:752(_create_sharding_for_array)\n",
      "        2    0.000    0.000    0.000    0.000 pjit.py:82(_is_unspecified_or_auto)\n",
      "        1    0.000    0.000    0.000    0.000 pjit.py:916(_pjit_jaxpr)\n",
      "        1    0.000    0.000    0.000    0.000 profiler.py:311(wrapper)\n",
      "        1    0.000    0.000    0.000    0.000 pxla.py:1674(__call__)\n",
      "        1    0.000    0.000    0.000    0.000 pxla.py:1695(__call__)\n",
      "        1    0.000    0.000    0.000    0.000 pxla.py:1696(<listcomp>)\n",
      "        1    0.000    0.000    0.000    0.000 pxla.py:2330(_get_default_device)\n",
      "        1    0.000    0.000    0.000    0.000 pxla.py:2334(_get_and_check_device_assignment)\n",
      "        1    0.000    0.000    0.000    0.000 pxla.py:2808(compile)\n",
      "        2    0.000    0.000    0.000    0.000 pxla.py:3137(unsafe_call)\n",
      "        1    0.000    0.000    0.000    0.000 pxla.py:3254(_execute_trivial)\n",
      "        1    0.000    0.000    0.000    0.000 pxla.py:3256(<genexpr>)\n",
      "        1    0.000    0.000    0.000    0.000 pxla.py:3259(<listcomp>)\n",
      "        1    0.000    0.000    0.000    0.000 pxla.py:3323(check_device_backend_on_shardings)\n",
      "        1    0.000    0.000    0.000    0.000 pxla.py:388(shard_args)\n",
      "        1    0.000    0.000    0.000    0.000 pxla.py:409(<listcomp>)\n",
      "        2    0.000    0.000    0.000    0.000 pxla.py:511(is_auto)\n",
      "        2    0.000    0.000    0.000    0.000 pxla.py:520(_is_unspecified)\n",
      "        1    0.000    0.000    0.001    0.001 traceback_util.py:162(reraise_with_filtered_traceback)\n",
      "        2    0.000    0.000    0.000    0.000 tree_util.py:174(tree_map)\n",
      "        2    0.000    0.000    0.000    0.000 tree_util.py:209(<listcomp>)\n",
      "        4    0.000    0.000    0.000    0.000 tree_util.py:210(<genexpr>)\n",
      "        5    0.000    0.000    0.000    0.000 tree_util.py:42(tree_flatten)\n",
      "        1    0.000    0.000    0.000    0.000 tree_util.py:64(tree_unflatten)\n",
      "        4    0.000    0.000    0.000    0.000 util.py:414(__init__)\n",
      "        4    0.000    0.000    0.000    0.000 util.py:418(__eq__)\n",
      "        4    0.000    0.000    0.000    0.000 util.py:423(__hash__)\n",
      "        4    0.000    0.000    0.000    0.000 util.py:51(safe_zip)\n",
      "        4    0.000    0.000    0.000    0.000 util.py:73(safe_map)\n",
      "        1    0.000    0.000    0.000    0.000 weakref.py:508(setdefault)\n",
      "        1    0.000    0.000    0.000    0.000 xla_bridge.py:521(get_device_backend)\n",
      "        2    0.000    0.000    0.000    0.000 xla_bridge.py:559(devices)\n",
      "        1    0.000    0.000    0.000    0.000 xla_bridge.py:592(local_devices)\n",
      "        1    0.000    0.000    0.000    0.000 xla_bridge.py:619(<listcomp>)\n",
      "        1    0.000    0.000    0.000    0.000 xla_bridge.py:649(process_count)\n",
      "        2    0.000    0.000    0.000    0.000 xla_bridge.py:653(<genexpr>)\n",
      "        2    0.000    0.000    0.000    0.000 {built-in method __new__ of type object at 0x5569b763d5c0}\n",
      "        2    0.000    0.000    0.000    0.000 {built-in method _abc._abc_instancecheck}\n",
      "        2    0.000    0.000    0.000    0.000 {built-in method builtins.all}\n",
      "        2    0.000    0.000    0.000    0.000 {built-in method builtins.callable}\n",
      "        1    0.000    0.000    0.002    0.002 {built-in method builtins.exec}\n",
      "      5/4    0.000    0.000    0.000    0.000 {built-in method builtins.getattr}\n",
      "        2    0.000    0.000    0.000    0.000 {built-in method builtins.hasattr}\n",
      "        6    0.000    0.000    0.000    0.000 {built-in method builtins.hash}\n",
      "        2    0.000    0.000    0.000    0.000 {built-in method builtins.id}\n",
      "       28    0.000    0.000    0.000    0.000 {built-in method builtins.isinstance}\n",
      "        2    0.000    0.000    0.000    0.000 {built-in method builtins.iter}\n",
      "       24    0.000    0.000    0.000    0.000 {built-in method builtins.len}\n",
      "        3    0.000    0.000    0.000    0.000 {built-in method builtins.max}\n",
      "        2    0.000    0.000    0.000    0.000 {built-in method builtins.next}\n",
      "        3    0.000    0.000    0.000    0.000 {built-in method jaxlib.xla_extension.jax_jit.thread_local_state}\n",
      "        5    0.000    0.000    0.000    0.000 {built-in method jaxlib.xla_extension.pytree.flatten}\n",
      "        2    0.000    0.000    0.000    0.000 {built-in method sys.getrecursionlimit}\n",
      "        1    0.000    0.000    0.000    0.000 {method 'disable' of '_lsprof.Profiler' objects}\n",
      "       36    0.000    0.000    0.000    0.000 {method 'get' of 'dict' objects}\n",
      "        3    0.000    0.000    0.000    0.000 {method 'items' of 'dict' objects}\n",
      "        1    0.000    0.000    0.000    0.000 {method 'setdefault' of 'dict' objects}\n",
      "        1    0.000    0.000    0.000    0.000 {method 'values' of 'mappingproxy' objects}\n",
      "\n",
      "\n"
     ]
    }
   ],
   "source": [
    "import cProfile\n",
    "\n",
    "cProfile.run('compute_CIs()')\n"
   ]
  },
  {
   "cell_type": "code",
   "execution_count": 237,
   "id": "bb05384f-e45c-4ddb-817c-6943c9eb0575",
   "metadata": {},
   "outputs": [
    {
     "name": "stdout",
     "output_type": "stream",
     "text": [
      "         370 function calls (369 primitive calls) in 0.001 seconds\n",
      "\n",
      "   Ordered by: standard name\n",
      "\n",
      "   ncalls  tottime  percall  cumtime  percall filename:lineno(function)\n",
      "        1    0.000    0.000    0.000    0.000 <string>:1(<lambda>)\n",
      "        1    0.000    0.000    0.001    0.001 <string>:1(<module>)\n",
      "        2    0.000    0.000    0.000    0.000 <string>:2(__init__)\n",
      "        2    0.000    0.000    0.000    0.000 abc.py:117(__instancecheck__)\n",
      "        1    0.000    0.000    0.001    0.001 api.py:304(infer_params)\n",
      "        1    0.000    0.000    0.000    0.000 api_util.py:273(_ensure_inbounds)\n",
      "        1    0.000    0.000    0.000    0.000 api_util.py:288(argnums_partial_except)\n",
      "        1    0.000    0.000    0.000    0.000 api_util.py:590(debug_info)\n",
      "        1    0.000    0.000    0.000    0.000 api_util.py:600(fun_sourceinfo)\n",
      "        1    0.000    0.000    0.000    0.000 api_util.py:611(_arg_names)\n",
      "        1    0.000    0.000    0.000    0.000 api_util.py:616(<listcomp>)\n",
      "        1    0.000    0.000    0.000    0.000 api_util.py:617(<dictcomp>)\n",
      "        1    0.000    0.000    0.000    0.000 api_util.py:622(<genexpr>)\n",
      "       17    0.000    0.000    0.000    0.000 config.py:239(get_state)\n",
      "        9    0.000    0.000    0.000    0.000 config.py:276(get_state)\n",
      "        8    0.000    0.000    0.000    0.000 config.py:445(get_state)\n",
      "        3    0.000    0.000    0.000    0.000 config.py:453(_trace_context)\n",
      "       34    0.000    0.000    0.000    0.000 config.py:94(_read)\n",
      "        1    0.000    0.000    0.000    0.000 core.py:1220(find_top_trace)\n",
      "        1    0.000    0.000    0.000    0.000 core.py:1221(<genexpr>)\n",
      "        1    0.000    0.000    0.000    0.000 core.py:2484(__init__)\n",
      "        1    0.000    0.000    0.000    0.000 core.py:2490(used_axis_names)\n",
      "        1    0.000    0.000    0.000    0.000 core.py:2495(subst_axis_names)\n",
      "        1    0.000    0.000    0.000    0.000 core.py:2506(<listcomp>)\n",
      "        1    0.000    0.000    0.000    0.000 core.py:2565(subst_axis_names_jaxpr)\n",
      "        1    0.000    0.000    0.001    0.001 core.py:2586(bind)\n",
      "        1    0.000    0.000    0.000    0.000 core.py:2588(<genexpr>)\n",
      "        1    0.000    0.000    0.000    0.000 core.py:362(bind_with_trace)\n",
      "        1    0.000    0.000    0.000    0.000 core.py:445(__init__)\n",
      "        1    0.000    0.000    0.000    0.000 core.py:816(process_primitive)\n",
      "        1    0.000    0.000    0.000    0.000 core.py:861(with_cur_sublevel)\n",
      "        1    0.000    0.000    0.000    0.000 core.py:87(<lambda>)\n",
      "        1    0.000    0.000    0.000    0.000 core.py:88(<lambda>)\n",
      "        1    0.000    0.000    0.000    0.000 core.py:89(<lambda>)\n",
      "        1    0.000    0.000    0.000    0.000 core.py:987(cur_sublevel)\n",
      "        1    0.000    0.000    0.000    0.000 inspect.py:2279(_signature_from_function)\n",
      "        1    0.000    0.000    0.000    0.000 inspect.py:2374(_signature_from_callable)\n",
      "        2    0.000    0.000    0.000    0.000 inspect.py:277(isfunction)\n",
      "        1    0.000    0.000    0.000    0.000 inspect.py:2778(__init__)\n",
      "        1    0.000    0.000    0.000    0.000 inspect.py:2919(__init__)\n",
      "        1    0.000    0.000    0.000    0.000 inspect.py:2968(<genexpr>)\n",
      "        1    0.000    0.000    0.000    0.000 inspect.py:2997(from_callable)\n",
      "        1    0.000    0.000    0.000    0.000 inspect.py:3005(parameters)\n",
      "        1    0.000    0.000    0.000    0.000 inspect.py:3049(_bind)\n",
      "        1    0.000    0.000    0.000    0.000 inspect.py:3180(bind)\n",
      "        1    0.000    0.000    0.000    0.000 inspect.py:3251(signature)\n",
      "        2    0.000    0.000    0.000    0.000 inspect.py:612(unwrap)\n",
      "        1    0.000    0.000    0.000    0.000 inspect.py:629(_is_wrapper)\n",
      "        1    0.000    0.000    0.000    0.000 inspect.py:632(_is_wrapper)\n",
      "        1    0.000    0.000    0.000    0.000 inspect.py:66(get_annotations)\n",
      "        3    0.000    0.000    0.000    0.000 linear_util.py:101(val)\n",
      "        3    0.000    0.000    0.000    0.000 linear_util.py:107(__nonzero__)\n",
      "        3    0.000    0.000    0.000    0.000 linear_util.py:129(__init__)\n",
      "        1    0.000    0.000    0.000    0.000 linear_util.py:137(__name__)\n",
      "        2    0.000    0.000    0.000    0.000 linear_util.py:141(wrap)\n",
      "        1    0.000    0.000    0.000    0.000 linear_util.py:146(populate_stores)\n",
      "        2    0.000    0.000    0.000    0.000 linear_util.py:221(transformation_with_aux)\n",
      "        1    0.000    0.000    0.000    0.000 linear_util.py:225(<lambda>)\n",
      "        1    0.000    0.000    0.000    0.000 linear_util.py:234(wrap_init)\n",
      "        1    0.000    0.000    0.000    0.000 linear_util.py:308(memoized_fun)\n",
      "        2    0.000    0.000    0.000    0.000 linear_util.py:89(__init__)\n",
      "        2    0.000    0.000    0.000    0.000 linear_util.py:92(store)\n",
      "        1    0.000    0.000    0.000    0.000 pjit.py:1130(_resolve_in_shardings)\n",
      "        1    0.000    0.000    0.000    0.000 pjit.py:1161(<listcomp>)\n",
      "        1    0.000    0.000    0.000    0.000 pjit.py:1162(<listcomp>)\n",
      "        1    0.000    0.000    0.000    0.000 pjit.py:1219(_pjit_call_impl)\n",
      "        1    0.000    0.000    0.000    0.000 pjit.py:1228(<listcomp>)\n",
      "        2    0.000    0.000    0.000    0.000 pjit.py:1289(__hash__)\n",
      "        2    0.000    0.000    0.000    0.000 pjit.py:1290(<genexpr>)\n",
      "        2    0.000    0.000    0.000    0.000 pjit.py:1297(__eq__)\n",
      "        2    0.000    0.000    0.000    0.000 pjit.py:1300(<genexpr>)\n",
      "        1    0.000    0.000    0.000    0.000 pjit.py:1307(_pjit_lower)\n",
      "        1    0.000    0.000    0.001    0.001 pjit.py:179(_python_pjit_helper)\n",
      "        1    0.000    0.000    0.000    0.000 pjit.py:2035(_fast_path_get_device_assignment)\n",
      "        1    0.000    0.000    0.000    0.000 pjit.py:219(_read_most_recent_pjit_call_executable)\n",
      "        1    0.000    0.000    0.001    0.001 pjit.py:236(cache_miss)\n",
      "        1    0.000    0.000    0.001    0.001 pjit.py:410(common_infer_params)\n",
      "        1    0.000    0.000    0.000    0.000 pjit.py:465(<lambda>)\n",
      "        1    0.000    0.000    0.000    0.000 pjit.py:467(<lambda>)\n",
      "        1    0.000    0.000    0.000    0.000 pjit.py:475(<genexpr>)\n",
      "        1    0.000    0.000    0.000    0.000 pjit.py:544(_flat_axes_specs)\n",
      "        2    0.000    0.000    0.000    0.000 pjit.py:738(hashable_pytree)\n",
      "        2    0.000    0.000    0.000    0.000 pjit.py:752(_create_sharding_for_array)\n",
      "        2    0.000    0.000    0.000    0.000 pjit.py:82(_is_unspecified_or_auto)\n",
      "        1    0.000    0.000    0.000    0.000 pjit.py:916(_pjit_jaxpr)\n",
      "        1    0.000    0.000    0.000    0.000 profiler.py:311(wrapper)\n",
      "        1    0.000    0.000    0.000    0.000 pxla.py:1674(__call__)\n",
      "        1    0.000    0.000    0.000    0.000 pxla.py:1695(__call__)\n",
      "        1    0.000    0.000    0.000    0.000 pxla.py:1696(<listcomp>)\n",
      "        1    0.000    0.000    0.000    0.000 pxla.py:2330(_get_default_device)\n",
      "        1    0.000    0.000    0.000    0.000 pxla.py:2334(_get_and_check_device_assignment)\n",
      "        1    0.000    0.000    0.000    0.000 pxla.py:2808(compile)\n",
      "        2    0.000    0.000    0.000    0.000 pxla.py:3137(unsafe_call)\n",
      "        1    0.000    0.000    0.000    0.000 pxla.py:3254(_execute_trivial)\n",
      "        1    0.000    0.000    0.000    0.000 pxla.py:3256(<genexpr>)\n",
      "        1    0.000    0.000    0.000    0.000 pxla.py:3259(<listcomp>)\n",
      "        1    0.000    0.000    0.000    0.000 pxla.py:3323(check_device_backend_on_shardings)\n",
      "        1    0.000    0.000    0.000    0.000 pxla.py:388(shard_args)\n",
      "        1    0.000    0.000    0.000    0.000 pxla.py:409(<listcomp>)\n",
      "        2    0.000    0.000    0.000    0.000 pxla.py:511(is_auto)\n",
      "        2    0.000    0.000    0.000    0.000 pxla.py:520(_is_unspecified)\n",
      "        1    0.000    0.000    0.001    0.001 traceback_util.py:162(reraise_with_filtered_traceback)\n",
      "        2    0.000    0.000    0.000    0.000 tree_util.py:174(tree_map)\n",
      "        2    0.000    0.000    0.000    0.000 tree_util.py:209(<listcomp>)\n",
      "        4    0.000    0.000    0.000    0.000 tree_util.py:210(<genexpr>)\n",
      "        5    0.000    0.000    0.000    0.000 tree_util.py:42(tree_flatten)\n",
      "        1    0.000    0.000    0.000    0.000 tree_util.py:64(tree_unflatten)\n",
      "        4    0.000    0.000    0.000    0.000 util.py:414(__init__)\n",
      "        4    0.000    0.000    0.000    0.000 util.py:418(__eq__)\n",
      "        4    0.000    0.000    0.000    0.000 util.py:423(__hash__)\n",
      "        4    0.000    0.000    0.000    0.000 util.py:51(safe_zip)\n",
      "        4    0.000    0.000    0.000    0.000 util.py:73(safe_map)\n",
      "        1    0.000    0.000    0.000    0.000 weakref.py:508(setdefault)\n",
      "        1    0.000    0.000    0.000    0.000 xla_bridge.py:521(get_device_backend)\n",
      "        2    0.000    0.000    0.000    0.000 xla_bridge.py:559(devices)\n",
      "        1    0.000    0.000    0.000    0.000 xla_bridge.py:592(local_devices)\n",
      "        1    0.000    0.000    0.000    0.000 xla_bridge.py:619(<listcomp>)\n",
      "        1    0.000    0.000    0.000    0.000 xla_bridge.py:649(process_count)\n",
      "        2    0.000    0.000    0.000    0.000 xla_bridge.py:653(<genexpr>)\n",
      "        2    0.000    0.000    0.000    0.000 {built-in method __new__ of type object at 0x5569b763d5c0}\n",
      "        2    0.000    0.000    0.000    0.000 {built-in method _abc._abc_instancecheck}\n",
      "        2    0.000    0.000    0.000    0.000 {built-in method builtins.all}\n",
      "        2    0.000    0.000    0.000    0.000 {built-in method builtins.callable}\n",
      "        1    0.000    0.000    0.001    0.001 {built-in method builtins.exec}\n",
      "      5/4    0.000    0.000    0.000    0.000 {built-in method builtins.getattr}\n",
      "        2    0.000    0.000    0.000    0.000 {built-in method builtins.hasattr}\n",
      "        6    0.000    0.000    0.000    0.000 {built-in method builtins.hash}\n",
      "        2    0.000    0.000    0.000    0.000 {built-in method builtins.id}\n",
      "       28    0.000    0.000    0.000    0.000 {built-in method builtins.isinstance}\n",
      "        2    0.000    0.000    0.000    0.000 {built-in method builtins.iter}\n",
      "       24    0.000    0.000    0.000    0.000 {built-in method builtins.len}\n",
      "        3    0.000    0.000    0.000    0.000 {built-in method builtins.max}\n",
      "        2    0.000    0.000    0.000    0.000 {built-in method builtins.next}\n",
      "        3    0.000    0.000    0.000    0.000 {built-in method jaxlib.xla_extension.jax_jit.thread_local_state}\n",
      "        5    0.000    0.000    0.000    0.000 {built-in method jaxlib.xla_extension.pytree.flatten}\n",
      "        2    0.000    0.000    0.000    0.000 {built-in method sys.getrecursionlimit}\n",
      "        1    0.000    0.000    0.000    0.000 {method 'disable' of '_lsprof.Profiler' objects}\n",
      "       36    0.000    0.000    0.000    0.000 {method 'get' of 'dict' objects}\n",
      "        3    0.000    0.000    0.000    0.000 {method 'items' of 'dict' objects}\n",
      "        1    0.000    0.000    0.000    0.000 {method 'setdefault' of 'dict' objects}\n",
      "        1    0.000    0.000    0.000    0.000 {method 'values' of 'mappingproxy' objects}\n",
      "\n",
      "\n"
     ]
    }
   ],
   "source": [
    "cProfile.run('compute_CIs_no_frames()')"
   ]
  },
  {
   "cell_type": "code",
   "execution_count": null,
   "id": "3af0afd9-9fe7-4909-abfe-1864d23c531f",
   "metadata": {},
   "outputs": [],
   "source": []
  }
 ],
 "metadata": {
  "kernelspec": {
   "display_name": "Python [conda env:.conda-jax]",
   "language": "python",
   "name": "conda-env-.conda-jax-py"
  },
  "language_info": {
   "codemirror_mode": {
    "name": "ipython",
    "version": 3
   },
   "file_extension": ".py",
   "mimetype": "text/x-python",
   "name": "python",
   "nbconvert_exporter": "python",
   "pygments_lexer": "ipython3",
   "version": "3.10.9"
  }
 },
 "nbformat": 4,
 "nbformat_minor": 5
}
