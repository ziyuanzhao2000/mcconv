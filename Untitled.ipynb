{
 "cells": [
  {
   "cell_type": "code",
   "execution_count": 33,
   "id": "cee6d7ab-b6ac-494a-8451-14f6c4fec7e6",
   "metadata": {},
   "outputs": [],
   "source": [
    "import deeprefine\n",
    "import torch\n",
    "import pdbfixer\n",
    "from openmm.app import PDBFile"
   ]
  },
  {
   "cell_type": "code",
   "execution_count": 24,
   "id": "561886c8-0e15-4ddb-852c-ecd35b2a5b75",
   "metadata": {},
   "outputs": [],
   "source": [
    "!wget https://files.rcsb.org/download/1DUR.pdb -q -O 1DUR.pdb"
   ]
  },
  {
   "cell_type": "code",
   "execution_count": 34,
   "id": "640c14c2-3737-4a4a-bed5-db9d00db1f95",
   "metadata": {},
   "outputs": [],
   "source": [
    "fixer = pdbfixer.PDBFixer(filename='1DUR.pdb')\n",
    "fixer.findMissingResidues()\n",
    "fixer.findNonstandardResidues()\n",
    "fixer.replaceNonstandardResidues()\n",
    "fixer.removeHeterogens(True)\n",
    "fixer.findMissingAtoms()\n",
    "fixer.addMissingAtoms()\n",
    "\n",
    "PDBFile.writeFile(fixer.topology, fixer.positions, open('1DUR_fixed.pdb', 'w'))\n"
   ]
  },
  {
   "cell_type": "code",
   "execution_count": 36,
   "id": "4d223495-56f2-4a56-b5b6-70636c02a622",
   "metadata": {},
   "outputs": [
    {
     "name": "stderr",
     "output_type": "stream",
     "text": [
      "/n/hekstra_lab/people/ziyuan/.conda/envs/jax/lib/python3.10/site-packages/mdtraj/formats/pdb/pdbfile.py:200: UserWarning: Unlikely unit cell vectors detected in PDB file likely resulting from a dummy CRYST1 record. Discarding unit cell vectors.\n",
      "  warnings.warn('Unlikely unit cell vectors detected in PDB file likely '\n"
     ]
    },
    {
     "data": {
      "text/plain": [
       "<mdtraj.Trajectory with 18 frames, 138 atoms, 10 residues, without unitcells at 0x2b3ab9986920>"
      ]
     },
     "execution_count": 36,
     "metadata": {},
     "output_type": "execute_result"
    }
   ],
   "source": [
    "import mdtraj\n",
    "\n",
    "traj = mdtraj.load('chignolin_ensemble.pdb')\n",
    "top = traj.topology\n",
    "traj"
   ]
  },
  {
   "cell_type": "code",
   "execution_count": 37,
   "id": "9e415836-44fc-4d51-8d60-d76fae49fd4a",
   "metadata": {},
   "outputs": [],
   "source": [
    "converter = deeprefine.ICConverter(top, vec_angles=False)"
   ]
  },
  {
   "cell_type": "code",
   "execution_count": 49,
   "id": "c1e09a47-e00b-4f99-bc1e-7b3ad6c56dfe",
   "metadata": {},
   "outputs": [],
   "source": [
    "xyz0 = torch.Tensor(traj.xyz.reshape(18, -1))\n"
   ]
  },
  {
   "cell_type": "code",
   "execution_count": 50,
   "id": "a4b73f94-dead-4d9b-a214-88c88dce7d73",
   "metadata": {},
   "outputs": [],
   "source": [
    "xyz0 = torch.tile(xyz0, (10000, 1))"
   ]
  },
  {
   "cell_type": "code",
   "execution_count": 51,
   "id": "29f527cd-a849-4603-a334-688a05b5f7cf",
   "metadata": {},
   "outputs": [
    {
     "data": {
      "text/plain": [
       "torch.Size([180000, 414])"
      ]
     },
     "execution_count": 51,
     "metadata": {},
     "output_type": "execute_result"
    }
   ],
   "source": [
    "xyz0.shape"
   ]
  },
  {
   "cell_type": "code",
   "execution_count": 52,
   "id": "d3ca26fc-7bdb-4ef1-b5f0-74c44bbb7d14",
   "metadata": {},
   "outputs": [
    {
     "name": "stdout",
     "output_type": "stream",
     "text": [
      "7.12 s ± 70.3 ms per loop (mean ± std. dev. of 7 runs, 1 loop each)\n"
     ]
    }
   ],
   "source": [
    "%%timeit\n",
    "converter.xyz2ic(xyz0).reshape(18, -1, 3)"
   ]
  },
  {
   "cell_type": "code",
   "execution_count": 40,
   "id": "be489f60-b8c8-40a2-a3b9-818f89f9d725",
   "metadata": {},
   "outputs": [],
   "source": [
    "ic = converter.xyz2ic(xyz0)"
   ]
  },
  {
   "cell_type": "code",
   "execution_count": 43,
   "id": "9842a8e6-50b8-45f5-a830-2f281378a991",
   "metadata": {},
   "outputs": [
    {
     "data": {
      "text/plain": [
       "torch.Size([18, 138, 3])"
      ]
     },
     "execution_count": 43,
     "metadata": {},
     "output_type": "execute_result"
    }
   ],
   "source": [
    "ic.reshape(18, -1, 3).shape"
   ]
  },
  {
   "cell_type": "code",
   "execution_count": 45,
   "id": "5bab79c5-ff93-4081-a59a-82bc8f454609",
   "metadata": {},
   "outputs": [
    {
     "data": {
      "text/plain": [
       "tensor([[-1.8770e-01, -5.0310e-01,  5.0140e-01],\n",
       "        [ 1.0389e-01,  1.9100e+00,  3.7659e-01],\n",
       "        [ 1.2150e-01,  2.1169e+00,  5.7109e-02],\n",
       "        [ 1.0408e-01,  1.9093e+00, -1.7187e+00],\n",
       "        [ 1.0389e-01,  1.9105e+00,  2.4697e+00],\n",
       "        [ 9.7916e-02,  2.0944e+00,  1.6627e+00],\n",
       "        [ 1.2146e-01,  2.1170e+00, -1.4375e+00],\n",
       "        [ 9.8008e-02,  2.0962e+00,  1.8859e+00],\n",
       "        [ 1.2151e-01,  2.0976e+00, -1.1295e+00],\n",
       "        [ 1.2149e-01,  2.1167e+00,  2.9094e+00],\n",
       "        [ 9.7972e-02,  2.0960e+00,  2.0806e+00],\n",
       "        [ 1.2150e-01,  2.1195e+00,  2.4463e+00],\n",
       "        [ 9.7990e-02,  2.0930e+00,  1.2670e+00],\n",
       "        [ 1.2143e-01,  2.1186e+00,  2.7424e+00],\n",
       "        [ 9.8064e-02,  2.0933e+00, -1.5631e+00],\n",
       "        [ 1.2159e-01,  2.1138e+00, -2.5478e+00],\n",
       "        [ 9.7982e-02,  2.0978e+00,  3.3615e-01],\n",
       "        [ 1.2149e-01,  2.1183e+00, -2.5881e-01],\n",
       "        [ 9.7623e-02,  2.0895e+00,  1.9337e+00],\n",
       "        [ 1.2149e-01,  2.1155e+00, -1.2726e+00],\n",
       "        [ 9.7988e-02,  2.0942e+00,  2.2808e+00],\n",
       "        [ 1.2202e-01,  2.0591e+00,  1.7251e+00],\n",
       "        [ 1.2199e-01,  2.0603e+00, -1.4181e+00],\n",
       "        [ 1.0815e-01,  1.9122e+00, -2.0376e+00],\n",
       "        [ 1.0789e-01,  1.9078e+00,  2.1513e+00],\n",
       "        [ 1.0802e-01,  1.9112e+00,  2.7500e+00],\n",
       "        [ 1.5286e-01,  1.9103e+00,  6.5692e-01],\n",
       "        [ 1.0782e-01,  1.9215e+00,  3.0589e+00],\n",
       "        [ 1.5302e-01,  1.9083e+00,  9.5916e-01],\n",
       "        [ 1.0777e-01,  1.9319e+00,  7.6678e-01],\n",
       "        [ 1.5304e-01,  1.9427e+00, -1.3759e+00],\n",
       "        [ 1.0801e-01,  1.9131e+00,  3.5420e-01],\n",
       "        [ 1.5292e-01,  1.9122e+00, -1.7475e+00],\n",
       "        [ 1.0797e-01,  1.9116e+00,  6.4993e-01],\n",
       "        [ 1.5311e-01,  1.9144e+00, -1.4489e+00],\n",
       "        [ 1.0809e-01,  1.9113e+00,  1.6384e+00],\n",
       "        [ 1.0798e-01,  1.9062e+00, -4.5257e-01],\n",
       "        [ 1.0797e-01,  1.9096e+00, -2.3561e+00],\n",
       "        [ 1.5304e-01,  1.9104e+00,  1.8369e+00],\n",
       "        [ 1.0792e-01,  1.9138e+00,  2.9104e+00],\n",
       "        [ 1.5317e-01,  1.9049e+00,  8.1450e-01],\n",
       "        [ 1.0801e-01,  1.9120e+00, -3.7170e-01],\n",
       "        [ 1.0799e-01,  1.9070e+00, -2.4651e+00],\n",
       "        [ 1.5094e-01,  1.9159e+00, -3.1390e+00],\n",
       "        [ 1.0771e-01,  1.9065e+00, -1.0465e+00],\n",
       "        [ 1.0802e-01,  1.9106e+00,  1.0465e+00],\n",
       "        [ 1.5302e-01,  1.9110e+00, -3.0561e+00],\n",
       "        [ 1.0804e-01,  1.9110e+00, -9.6069e-01],\n",
       "        [ 1.0798e-01,  1.9118e+00,  1.1345e+00],\n",
       "        [ 1.5467e-01,  1.8558e+00,  3.8740e-01],\n",
       "        [ 1.0813e-01,  1.9204e+00,  2.4728e+00],\n",
       "        [ 1.0787e-01,  1.9226e+00, -1.6860e+00],\n",
       "        [ 1.5290e-01,  1.9102e+00, -2.7238e+00],\n",
       "        [ 1.0811e-01,  1.9111e+00, -6.2844e-01],\n",
       "        [ 1.0792e-01,  1.9127e+00,  1.4664e+00],\n",
       "        [ 1.4215e-01,  1.9095e+00,  1.3050e+00],\n",
       "        [ 1.5300e-01,  1.9111e+00, -7.9116e-01],\n",
       "        [ 1.0784e-01,  1.9127e+00, -2.8823e+00],\n",
       "        [ 1.4210e-01,  1.9088e+00,  2.7101e-01],\n",
       "        [ 1.5288e-01,  1.9121e+00, -1.8260e+00],\n",
       "        [ 1.0790e-01,  1.9116e+00,  2.3658e+00],\n",
       "        [ 1.0797e-01,  1.9097e+00, -6.2627e-01],\n",
       "        [ 1.0805e-01,  1.9095e+00,  1.4642e+00],\n",
       "        [ 1.4975e-01,  1.9191e+00, -6.3462e-01],\n",
       "        [ 1.3997e-01,  2.0929e+00,  1.5108e+00],\n",
       "        [ 1.4007e-01,  2.0950e+00, -1.6353e+00],\n",
       "        [ 1.2200e-01,  2.0589e+00,  1.0034e+00],\n",
       "        [ 1.2201e-01,  2.0603e+00, -2.1381e+00],\n",
       "        [ 1.5401e-01,  1.8585e+00, -3.8015e-01],\n",
       "        [ 1.0812e-01,  1.9194e+00,  1.7034e+00],\n",
       "        [ 1.0791e-01,  1.9231e+00, -2.4564e+00],\n",
       "        [ 1.5294e-01,  1.9104e+00, -1.8678e+00],\n",
       "        [ 1.0809e-01,  1.9091e+00,  2.2559e-01],\n",
       "        [ 1.0790e-01,  1.9123e+00,  2.3217e+00],\n",
       "        [ 9.6000e-02,  1.8844e+00,  2.8048e+00],\n",
       "        [ 1.0796e-01,  1.9100e+00, -5.9248e-01],\n",
       "        [ 1.0795e-01,  1.9104e+00, -2.6870e+00],\n",
       "        [ 1.0798e-01,  1.9112e+00,  1.5007e+00],\n",
       "        [ 9.5998e-02,  1.8855e+00, -3.0528e+00],\n",
       "        [ 1.0801e-01,  1.9108e+00, -1.2482e+00],\n",
       "        [ 1.0795e-01,  1.9115e+00,  2.9389e+00],\n",
       "        [ 1.0806e-01,  1.9096e+00,  8.4410e-01],\n",
       "        [ 1.3532e-01,  2.1863e+00,  1.6506e+00],\n",
       "        [ 1.4551e-01,  2.2430e+00, -1.4983e+00],\n",
       "        [ 1.3995e-01,  2.0939e+00,  3.1383e+00],\n",
       "        [ 1.3996e-01,  2.0933e+00, -3.1384e+00],\n",
       "        [ 1.0790e-01,  2.0943e+00, -5.1002e-03],\n",
       "        [ 1.0798e-01,  2.0948e+00,  4.0448e-03],\n",
       "        [ 1.0820e-01,  1.9270e+00,  2.2887e+00],\n",
       "        [ 1.0789e-01,  1.9296e+00, -1.8512e+00],\n",
       "        [ 1.2205e-01,  2.0596e+00,  4.8070e-01],\n",
       "        [ 1.2203e-01,  2.0598e+00, -2.6606e+00],\n",
       "        [ 1.0799e-01,  2.1916e+00, -7.9996e-03],\n",
       "        [ 1.3832e-01,  1.8994e+00,  3.1401e+00],\n",
       "        [ 1.4020e-01,  2.3235e+00,  5.0395e-03],\n",
       "        [ 1.4006e-01,  2.0952e+00, -1.3870e-03],\n",
       "        [ 1.0804e-01,  2.0932e+00,  3.1415e+00],\n",
       "        [ 1.0803e-01,  2.0943e+00,  3.1415e+00],\n",
       "        [ 9.7880e-02,  2.1872e+00,  3.1399e+00],\n",
       "        [ 1.3788e-01,  1.9510e+00, -5.4890e-03],\n",
       "        [ 1.0787e-01,  2.0864e+00,  2.7306e-03],\n",
       "        [ 1.4055e-01,  2.1025e+00, -3.1398e+00],\n",
       "        [ 1.3798e-01,  2.0943e+00, -3.1412e+00],\n",
       "        [ 1.3949e-01,  2.3370e+00, -3.1372e+00],\n",
       "        [ 1.0793e-01,  2.0907e+00,  3.1395e+00],\n",
       "        [ 9.6009e-02,  1.8845e+00, -2.9343e+00],\n",
       "        [ 1.0807e-01,  2.0982e+00, -2.2103e-05],\n",
       "        [ 1.3967e-01,  2.0859e+00, -3.1415e+00],\n",
       "        [ 1.0800e-01,  2.0961e+00, -3.1409e+00]])"
      ]
     },
     "execution_count": 45,
     "metadata": {},
     "output_type": "execute_result"
    }
   ],
   "source": [
    "ic.reshape(18, -1, 3)[0, 29:]"
   ]
  },
  {
   "cell_type": "code",
   "execution_count": 19,
   "id": "a6050ba9-ce80-4769-840d-e77a5b8e9f7f",
   "metadata": {},
   "outputs": [
    {
     "name": "stdout",
     "output_type": "stream",
     "text": [
      "1.8 ms ± 5.82 µs per loop (mean ± std. dev. of 7 runs, 100 loops each)\n"
     ]
    }
   ],
   "source": [
    "%%timeit\n",
    "converter.ic2xyz(ic).reshape(18, -1, 3)"
   ]
  },
  {
   "cell_type": "code",
   "execution_count": 22,
   "id": "244768fa-2cef-4787-beaa-64e52dbc8b83",
   "metadata": {},
   "outputs": [
    {
     "data": {
      "text/plain": [
       "tensor(0.1796)"
      ]
     },
     "execution_count": 22,
     "metadata": {},
     "output_type": "execute_result"
    }
   ],
   "source": [
    "torch.max(torch.abs(xyz_new - xyz0))"
   ]
  },
  {
   "cell_type": "code",
   "execution_count": 23,
   "id": "0f3433b4-c359-46e2-8dcd-83ef21aeea68",
   "metadata": {},
   "outputs": [
    {
     "data": {
      "text/plain": [
       "tensor(0.2468)"
      ]
     },
     "execution_count": 23,
     "metadata": {},
     "output_type": "execute_result"
    }
   ],
   "source": [
    "torch.mean(torch.sqrt(torch.sum((xyz0-xyz_new)**2, dim=-1)))"
   ]
  },
  {
   "cell_type": "code",
   "execution_count": null,
   "id": "79ef2e06-6688-49c8-8833-3a2a9e3b2d17",
   "metadata": {},
   "outputs": [],
   "source": []
  }
 ],
 "metadata": {
  "kernelspec": {
   "display_name": "Python [conda env:.conda-jax]",
   "language": "python",
   "name": "conda-env-.conda-jax-py"
  },
  "language_info": {
   "codemirror_mode": {
    "name": "ipython",
    "version": 3
   },
   "file_extension": ".py",
   "mimetype": "text/x-python",
   "name": "python",
   "nbconvert_exporter": "python",
   "pygments_lexer": "ipython3",
   "version": "3.10.9"
  }
 },
 "nbformat": 4,
 "nbformat_minor": 5
}
